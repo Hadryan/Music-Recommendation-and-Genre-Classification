{
 "cells": [
  {
   "cell_type": "code",
   "execution_count": 1,
   "metadata": {},
   "outputs": [],
   "source": [
    "import math\n",
    "import numpy as np\n",
    "import pandas as pd\n",
    "import matplotlib.pyplot as plt\n",
    "import random\n",
    "import json\n",
    "\n",
    "import librosa\n",
    "import librosa.display\n",
    "import IPython.display as ipd\n",
    "\n",
    "import warnings\n",
    "warnings.filterwarnings('ignore')\n",
    "\n",
    "from pydub import AudioSegment\n",
    "#import tensorflow.keras as keras\n",
    "\n",
    "import os\n",
    "import re\n",
    "import csv\n",
    "\n",
    "import seaborn as sns\n",
    "\n",
    "import sklearn\n",
    "from sklearn.model_selection import train_test_split\n",
    "from sklearn.naive_bayes import GaussianNB\n",
    "from sklearn.linear_model import SGDClassifier, LogisticRegression\n",
    "from sklearn.tree import DecisionTreeClassifier\n",
    "from sklearn.ensemble import RandomForestClassifier\n",
    "from sklearn.svm import SVC\n",
    "from sklearn.neural_network import MLPClassifier\n",
    "from sklearn.metrics import classification_report\n",
    "from sklearn.metrics import confusion_matrix, accuracy_score, roc_auc_score, roc_curve\n",
    "from sklearn.metrics import precision_score, recall_score, f1_score\n",
    "from sklearn import preprocessing\n",
    "from sklearn.model_selection import train_test_split\n",
    "from sklearn.feature_selection import RFE\n",
    "\n",
    "from xgboost import XGBClassifier, XGBRFClassifier\n",
    "from xgboost import plot_tree, plot_importance"
   ]
  },
  {
   "cell_type": "code",
   "execution_count": 2,
   "metadata": {},
   "outputs": [
    {
     "name": "stdout",
     "output_type": "stream",
     "text": [
      "['pop', '.DS_Store', 'metal', 'disco', 'blues', 'reggae', 'classical', 'rock', 'hiphop', 'country', 'jazz']\n"
     ]
    }
   ],
   "source": [
    "#List of genres in the dataset\n",
    "print(list(os.listdir(\"/Users/anveshvarma/Downloads/ADM_MUSIC/genres_original\")))"
   ]
  },
  {
   "cell_type": "code",
   "execution_count": 3,
   "metadata": {},
   "outputs": [],
   "source": [
    "dataset_path= \"/Users/anveshvarma/Downloads/ADM_MUSIC/genres_original\"\n"
   ]
  },
  {
   "cell_type": "code",
   "execution_count": 4,
   "metadata": {},
   "outputs": [],
   "source": [
    "if dataset_path is not dataset_path:\n",
    "    print(1)"
   ]
  },
  {
   "cell_type": "code",
   "execution_count": null,
   "metadata": {},
   "outputs": [],
   "source": [
    "data_soundwaves=[]\n",
    "for i, (dirpath, dirnames, filenames) in enumerate(os.walk(\"/Users/anveshvarma/Downloads/ADM_MUSIC/genres_original\")):\n",
    "    if(i!=0):\n",
    "        print(dirpath)\n",
    "        for f in filenames:\n",
    "            print(f)\n",
    "            file_path = os.path.join(dirpath, f)\n",
    "            signal, sr = librosa.load(file_path)\n",
    "            data_soundwaves.append([re.split(r'[_.]', f)[0],f,signal, sr])"
   ]
  },
  {
   "cell_type": "code",
   "execution_count": 10,
   "metadata": {},
   "outputs": [
    {
     "data": {
      "text/html": [
       "<div>\n",
       "<style scoped>\n",
       "    .dataframe tbody tr th:only-of-type {\n",
       "        vertical-align: middle;\n",
       "    }\n",
       "\n",
       "    .dataframe tbody tr th {\n",
       "        vertical-align: top;\n",
       "    }\n",
       "\n",
       "    .dataframe thead th {\n",
       "        text-align: right;\n",
       "    }\n",
       "</style>\n",
       "<table border=\"1\" class=\"dataframe\">\n",
       "  <thead>\n",
       "    <tr style=\"text-align: right;\">\n",
       "      <th></th>\n",
       "      <th>genre_name</th>\n",
       "      <th>filename</th>\n",
       "      <th>sound_wave</th>\n",
       "      <th>sr</th>\n",
       "    </tr>\n",
       "  </thead>\n",
       "  <tbody>\n",
       "    <tr>\n",
       "      <th>0</th>\n",
       "      <td>pop</td>\n",
       "      <td>pop.00027.wav</td>\n",
       "      <td>[0.03451538, 0.04815674, 0.06430054, 0.0982055...</td>\n",
       "      <td>22050</td>\n",
       "    </tr>\n",
       "    <tr>\n",
       "      <th>1</th>\n",
       "      <td>pop</td>\n",
       "      <td>pop.00033.wav</td>\n",
       "      <td>[-0.0019836426, 0.06552124, 0.1253357, 0.11224...</td>\n",
       "      <td>22050</td>\n",
       "    </tr>\n",
       "    <tr>\n",
       "      <th>2</th>\n",
       "      <td>pop</td>\n",
       "      <td>pop.00032.wav</td>\n",
       "      <td>[0.012359619, -0.0107421875, -0.03161621, -0.0...</td>\n",
       "      <td>22050</td>\n",
       "    </tr>\n",
       "    <tr>\n",
       "      <th>3</th>\n",
       "      <td>pop</td>\n",
       "      <td>pop.00026.wav</td>\n",
       "      <td>[-0.004119873, -0.013946533, -0.009338379, -0....</td>\n",
       "      <td>22050</td>\n",
       "    </tr>\n",
       "    <tr>\n",
       "      <th>4</th>\n",
       "      <td>pop</td>\n",
       "      <td>pop.00030.wav</td>\n",
       "      <td>[-0.11010742, -0.15396118, 0.025970459, 0.1386...</td>\n",
       "      <td>22050</td>\n",
       "    </tr>\n",
       "    <tr>\n",
       "      <th>...</th>\n",
       "      <td>...</td>\n",
       "      <td>...</td>\n",
       "      <td>...</td>\n",
       "      <td>...</td>\n",
       "    </tr>\n",
       "    <tr>\n",
       "      <th>908</th>\n",
       "      <td>jazz</td>\n",
       "      <td>jazz.00014.wav</td>\n",
       "      <td>[-0.15530396, -0.21246338, -0.08627319, -0.020...</td>\n",
       "      <td>22050</td>\n",
       "    </tr>\n",
       "    <tr>\n",
       "      <th>909</th>\n",
       "      <td>jazz</td>\n",
       "      <td>jazz.00000.wav</td>\n",
       "      <td>[-0.009246826, -0.011779785, -0.013702393, -0....</td>\n",
       "      <td>22050</td>\n",
       "    </tr>\n",
       "    <tr>\n",
       "      <th>910</th>\n",
       "      <td>jazz</td>\n",
       "      <td>jazz.00038.wav</td>\n",
       "      <td>[-0.20962524, -0.3809204, -0.39624023, -0.4165...</td>\n",
       "      <td>22050</td>\n",
       "    </tr>\n",
       "    <tr>\n",
       "      <th>911</th>\n",
       "      <td>jazz</td>\n",
       "      <td>jazz.00004.wav</td>\n",
       "      <td>[0.122039795, 0.22442627, 0.19665527, 0.171508...</td>\n",
       "      <td>22050</td>\n",
       "    </tr>\n",
       "    <tr>\n",
       "      <th>912</th>\n",
       "      <td>jazz</td>\n",
       "      <td>jazz.00010.wav</td>\n",
       "      <td>[0.008270264, 0.010284424, 0.0060424805, 0.005...</td>\n",
       "      <td>22050</td>\n",
       "    </tr>\n",
       "  </tbody>\n",
       "</table>\n",
       "<p>913 rows × 4 columns</p>\n",
       "</div>"
      ],
      "text/plain": [
       "    genre_name        filename  \\\n",
       "0          pop   pop.00027.wav   \n",
       "1          pop   pop.00033.wav   \n",
       "2          pop   pop.00032.wav   \n",
       "3          pop   pop.00026.wav   \n",
       "4          pop   pop.00030.wav   \n",
       "..         ...             ...   \n",
       "908       jazz  jazz.00014.wav   \n",
       "909       jazz  jazz.00000.wav   \n",
       "910       jazz  jazz.00038.wav   \n",
       "911       jazz  jazz.00004.wav   \n",
       "912       jazz  jazz.00010.wav   \n",
       "\n",
       "                                            sound_wave     sr  \n",
       "0    [0.03451538, 0.04815674, 0.06430054, 0.0982055...  22050  \n",
       "1    [-0.0019836426, 0.06552124, 0.1253357, 0.11224...  22050  \n",
       "2    [0.012359619, -0.0107421875, -0.03161621, -0.0...  22050  \n",
       "3    [-0.004119873, -0.013946533, -0.009338379, -0....  22050  \n",
       "4    [-0.11010742, -0.15396118, 0.025970459, 0.1386...  22050  \n",
       "..                                                 ...    ...  \n",
       "908  [-0.15530396, -0.21246338, -0.08627319, -0.020...  22050  \n",
       "909  [-0.009246826, -0.011779785, -0.013702393, -0....  22050  \n",
       "910  [-0.20962524, -0.3809204, -0.39624023, -0.4165...  22050  \n",
       "911  [0.122039795, 0.22442627, 0.19665527, 0.171508...  22050  \n",
       "912  [0.008270264, 0.010284424, 0.0060424805, 0.005...  22050  \n",
       "\n",
       "[913 rows x 4 columns]"
      ]
     },
     "execution_count": 10,
     "metadata": {},
     "output_type": "execute_result"
    }
   ],
   "source": [
    "df_soundwaves = pd.DataFrame(data_soundwaves, columns = ['genre_name','filename','sound_wave','sr'])\n",
    "df_soundwaves"
   ]
  },
  {
   "cell_type": "code",
   "execution_count": 11,
   "metadata": {},
   "outputs": [
    {
     "data": {
      "text/plain": [
       "array([['pop', 'pop.00027.wav',\n",
       "        array([ 0.03451538,  0.04815674,  0.06430054, ..., -0.06954956,\n",
       "               -0.1444397 , -0.19223022], dtype=float32)               ,\n",
       "        22050],\n",
       "       ['pop', 'pop.00033.wav',\n",
       "        array([-0.00198364,  0.06552124,  0.1253357 , ...,  0.22796631,\n",
       "                0.31658936,  0.3052063 ], dtype=float32)               ,\n",
       "        22050],\n",
       "       ['pop', 'pop.00032.wav',\n",
       "        array([ 0.01235962, -0.01074219, -0.03161621, ..., -0.19876099,\n",
       "                0.03173828,  0.05938721], dtype=float32)               ,\n",
       "        22050],\n",
       "       ...,\n",
       "       ['jazz', 'jazz.00038.wav',\n",
       "        array([-0.20962524, -0.3809204 , -0.39624023, ...,  0.03085327,\n",
       "                0.02249146,  0.00622559], dtype=float32)               ,\n",
       "        22050],\n",
       "       ['jazz', 'jazz.00004.wav',\n",
       "        array([0.12203979, 0.22442627, 0.19665527, ..., 0.0116272 , 0.03677368,\n",
       "               0.05535889], dtype=float32)                                     ,\n",
       "        22050],\n",
       "       ['jazz', 'jazz.00010.wav',\n",
       "        array([ 0.00827026,  0.01028442,  0.00604248, ..., -0.02148438,\n",
       "               -0.02160645, -0.02804565], dtype=float32)               ,\n",
       "        22050]], dtype=object)"
      ]
     },
     "execution_count": 11,
     "metadata": {},
     "output_type": "execute_result"
    }
   ],
   "source": [
    "data_soundwaves_single=df_soundwaves.to_numpy()\n",
    "data_soundwaves_single"
   ]
  },
  {
   "cell_type": "code",
   "execution_count": 12,
   "metadata": {},
   "outputs": [],
   "source": [
    "def waveplot(sound_wave):\n",
    "    plt.figure(figsize = (16, 6))\n",
    "    plt.title(sound_wave[0])\n",
    "    librosa.display.waveshow(y=sound_wave[2], sr=sound_wave[3], color=\"#2f7d92ff\")\n",
    "    plt.show()"
   ]
  },
  {
   "cell_type": "code",
   "execution_count": null,
   "metadata": {},
   "outputs": [],
   "source": [
    "for sound in data_soundwaves_single:\n",
    "    waveplot(sound)"
   ]
  },
  {
   "cell_type": "code",
   "execution_count": null,
   "metadata": {},
   "outputs": [],
   "source": [
    "def hermony_plot(sound_wave):\n",
    "    plt.figure(figsize = (16, 6))\n",
    "    plt.title(sound_wave[0])\n",
    "    y_harm, y_perc = librosa.effects.hpss(sound_wave[2])\n",
    "    plt.plot(y_harm, color = '#A300F9');\n",
    "    plt.plot(y_perc, color = '#FFB100');\n",
    "    plt.show()"
   ]
  },
  {
   "cell_type": "code",
   "execution_count": null,
   "metadata": {},
   "outputs": [],
   "source": [
    "for sound in data_soundwaves_single:\n",
    "    hermony_plot(sound)"
   ]
  },
  {
   "cell_type": "code",
   "execution_count": null,
   "metadata": {},
   "outputs": [],
   "source": [
    "hop_length = 5000\n",
    "data=[]\n",
    "dataset_path = \"/Users/anveshvarma/Downloads/ADM_MUSIC/genres_original\"\n",
    "for i, (dirpath, dirnames, filenames) in enumerate(os.walk(\"/Users/anveshvarma/Downloads/ADM_MUSIC/genres_original\")):\n",
    "     if dirpath is not dataset_path:\n",
    "            for f in filenames:\n",
    "                file_path = os.path.join(dirpath, f)\n",
    "                signal, sr = librosa.load(file_path)\n",
    "                zero_crossings = librosa.zero_crossings(signal, pad=False)\n",
    "                data.append([re.split(r'[_.]', f)[0],f,sum(zero_crossings)])"
   ]
  },
  {
   "cell_type": "code",
   "execution_count": null,
   "metadata": {},
   "outputs": [],
   "source": [
    "data_zerocrossings=[]\n",
    "for soundwave in data_soundwaves:\n",
    "    zero_crossings = librosa.zero_crossings(soundwave[2], pad=False)\n",
    "    data_zerocrossings.append([soundwave[0],soundwave[1],sum(zero_crossings)])"
   ]
  },
  {
   "cell_type": "code",
   "execution_count": null,
   "metadata": {},
   "outputs": [],
   "source": [
    "df_zerocrossings = pd.DataFrame(data_zerocrossings)\n",
    "df_zerocrossings"
   ]
  },
  {
   "cell_type": "code",
   "execution_count": null,
   "metadata": {},
   "outputs": [],
   "source": [
    "df_zerocrossings = df_zerocrossings.sort_values(by=[2])\n",
    "set1 = set(df_zerocrossings[0])\n",
    "plt.figure(figsize=(10,8))\n",
    "\n",
    "for count in set1:\n",
    "     selected_data = df_zerocrossings.loc[df_zerocrossings[0] == count]\n",
    "     plt.plot(np.linspace(0, len(selected_data), len(selected_data), endpoint=False), selected_data[2], label=count)\n",
    "    \n",
    "plt.legend()\n",
    "plt.show()"
   ]
  },
  {
   "cell_type": "code",
   "execution_count": null,
   "metadata": {},
   "outputs": [],
   "source": [
    "classical_song_path='/Users/anveshvarma/Downloads/ADM_MUSIC/genres_original/classical/classical.00003.wav'\n",
    "classical_sound, classical_sr =  librosa.load(classical_song_path)\n",
    "\n",
    "mfccs = librosa.feature.mfcc(classical_sound, sr=sr)\n",
    "mfccs = sklearn.preprocessing.scale(mfccs, axis=1)\n",
    "print('Mean:', mfccs.mean(), '\\n')\n",
    "print('Var:', mfccs.var())\n",
    "\n",
    "#Displaying  the MFCCs:\n",
    "plt.figure(figsize = (16, 6))\n",
    "librosa.display.specshow(mfccs, sr=sr, x_axis='time', cmap = 'cividis');"
   ]
  },
  {
   "cell_type": "code",
   "execution_count": null,
   "metadata": {},
   "outputs": [],
   "source": [
    "path =\".\\\\three_second_songs\"\n",
    "try: \n",
    "    os.mkdir(path) \n",
    "except OSError as error: \n",
    "    print(error)  "
   ]
  },
  {
   "cell_type": "code",
   "execution_count": null,
   "metadata": {},
   "outputs": [],
   "source": [
    "hop_length = 5000\n",
    "dataset_path = \".\\\\Dataset\\\\Data\\\\genres_original\"\n",
    "three_second_folder = \".\\\\three_second_songs\"\n",
    "for i, (dirpath, dirnames, filenames) in enumerate(os.walk(dataset_path)):\n",
    "     if dirpath is not dataset_path:\n",
    "            for f in filenames:\n",
    "                file_path = os.path.join(dirpath, f)\n",
    "                for i in range(0,29,3):\n",
    "                    t1 = i * 1000 \n",
    "                    t2 = (i+3)* 1000\n",
    "                    newAudio = AudioSegment.from_wav(file_path)\n",
    "                    newAudio = newAudio[t1:t2]\n",
    "                    split_fn = three_second_folder +\"\\\\\" + str(i)+'_'+f \n",
    "                    newAudio.export(split_fn, format=\"wav\")"
   ]
  },
  {
   "cell_type": "code",
   "execution_count": null,
   "metadata": {},
   "outputs": [],
   "source": [
    "def feature_extraction(dataset_path, csv_file, hop_length):\n",
    "\n",
    "    data=[]\n",
    "    mfcc_mean=[]\n",
    "    mfcc_var=[]\n",
    "    hop_length=hop_length\n",
    "\n",
    "    header = ['filename','chromagram_mean','chromagram_var','rms_mean','rms_var','spectral_centroid_mean','spectral_centroid_var','spectral_bandwidth_mean','spectral_bandwidth_var','spectral_rolloff_mean','spectral_rolloff_var','zero_crossing_rate_mean','zero_crossing_rate_var','tempo_mean','y_harm_mean','y_perc_mean','y_harm_var','y_perc_var','mfccm_1','mfccm_2','mfccm_3','mfccm_4','mfccm_5','mfccm_6','mfccm_7','mfccm_8','mfccm_9','mfccm_10','mfccm_11','mfccm_12','mfccm_13','mfccm_14','mfccm_15','mfccm_16','mfccm_17','mfccm_18','mfccm_19','mfccm_20','mfccv_1','mfccv_2','mfccv_3','mfccv_4','mfccv_5','mfccv_6','mfccv_7','mfccv_8','mfccv_9','mfccv_10','mfccv_11','mfccv_12','mfccv_13','mfccv_14','mfccv_15','mfccv_16','mfccv_17','mfccv_18','mfccv_19','mfccv_20']\n",
    "    file = open(csv_file, 'w', newline='')\n",
    "\n",
    "    with file:\n",
    "        writer = csv.writer(file)\n",
    "        writer.writerow(header)\n",
    "\n",
    "    dataset_path = dataset_path\n",
    "    for i, (dirpath, dirnames, filenames) in enumerate(os.walk(\".\\\\three_second_songs\")):\n",
    "         if dirpath is not dataset_path:\n",
    "                for f in filenames:\n",
    "                    file_path = os.path.join(dirpath, f)\n",
    "                    signal, sr = librosa.load(file_path)\n",
    "                    chromagram =librosa.feature.chroma_stft(y=signal, sr=sr, hop_length=hop_length)\n",
    "                    rms =librosa.feature.rms(y=signal, hop_length=hop_length)\n",
    "                    spectral_centroid =librosa.feature.spectral_centroid(y=signal, sr=sr,hop_length=hop_length)\n",
    "                    spectral_bandwidth=librosa.feature.spectral_bandwidth(y=signal, sr=sr,hop_length=hop_length)\n",
    "                    spectral_rolloff=librosa.feature.spectral_rolloff(y=signal, sr=sr,hop_length=hop_length)\n",
    "                    zero_crossing_rate=librosa.feature.zero_crossing_rate(y=signal,hop_length=hop_length)\n",
    "                    tempo = librosa.beat.tempo(y=signal)\n",
    "                    y_harm, y_perc = librosa.effects.hpss(signal)\n",
    "                    mfcc = librosa.feature.mfcc(y=signal,hop_length=hop_length)\n",
    "                    mfccm=mfcc.mean(axis=1)\n",
    "                    mfccv=mfcc.var(axis=1)\n",
    "\n",
    "                    data=[re.split(r'[_.]', f)[1],np.mean(chromagram),np.var(chromagram),np.mean(rms),np.var(rms),np.mean(spectral_centroid),\n",
    "                                 np.var(spectral_centroid),np.mean(spectral_bandwidth),np.var(spectral_bandwidth),np.mean(spectral_rolloff),\n",
    "                                 np.var(spectral_rolloff),np.mean(zero_crossing_rate),np.var(zero_crossing_rate),np.mean(tempo),\n",
    "                                 np.mean(y_harm),np.mean(y_perc),np.var(y_harm),np.var(y_perc)]+ mfccm.tolist()+mfccv.tolist()\n",
    "                    file = open('.\\\\Dataset\\\\data_f2.csv', 'a', newline='')\n",
    "\n",
    "                    with file:\n",
    "                        writer = csv.writer(file)\n",
    "                        writer.writerow(data)"
   ]
  },
  {
   "cell_type": "code",
   "execution_count": null,
   "metadata": {},
   "outputs": [],
   "source": [
    "feature_extraction( dataset_path=\".\\\\three_second_songs\", csv_file= \".\\\\Dataset\\\\data_f2.csv\", hop_length = 5000) "
   ]
  },
  {
   "cell_type": "code",
   "execution_count": null,
   "metadata": {},
   "outputs": [],
   "source": [
    "data = pd.read_csv('.\\\\Dataset\\\\data_f2.csv') \n",
    "data.head()"
   ]
  },
  {
   "cell_type": "code",
   "execution_count": null,
   "metadata": {},
   "outputs": [],
   "source": [
    "y = data['filename']\n",
    "X = data.loc[:, data.columns != 'filename']"
   ]
  },
  {
   "cell_type": "code",
   "execution_count": null,
   "metadata": {},
   "outputs": [],
   "source": [
    "cols = X.columns\n",
    "min_max_scaler = preprocessing.MinMaxScaler()\n",
    "np_scaled = min_max_scaler.fit_transform(X)\n",
    "X = pd.DataFrame(np_scaled, columns = cols)\n",
    "X"
   ]
  },
  {
   "cell_type": "code",
   "execution_count": null,
   "metadata": {},
   "outputs": [],
   "source": [
    "X_train, X_test, y_train, y_test = train_test_split(X, y, test_size=0.3, random_state=42)"
   ]
  },
  {
   "cell_type": "code",
   "execution_count": null,
   "metadata": {},
   "outputs": [],
   "source": [
    "xgb = XGBClassifier(n_estimators=1000, learning_rate=0.05)\n",
    "model_assessment(xgb, \"XGBoost\")"
   ]
  },
  {
   "cell_type": "code",
   "execution_count": null,
   "metadata": {},
   "outputs": [],
   "source": [
    "def xgbclassifier(n_estimators,learning_rate):\n",
    "    xgb = XGBClassifier(n_estimators, learning_rate)\n",
    "    xgb.fit(X_train, y_train)\n",
    "    preds = xgb.predict(X_test)\n",
    "    print('For Learning rate ', ':',learning_rate, 'and n_estimators :',n_estimators, '\\n')\n",
    "    print('Accuracy', ':', round(accuracy_score(y_test, preds), 4), '\\n')\n",
    "    confusion_matr = confusion_matrix(y_test, preds) \n",
    "    plt.figure(figsize = (16, 9))\n",
    "    sns.heatmap(confusion_matr, cmap=\"Blues\", annot=True, \n",
    "                xticklabels = [\"blues\", \"classical\", \"country\", \"disco\", \"hiphop\", \"jazz\", \"metal\", \"pop\", \"reggae\", \"rock\"],\n",
    "               yticklabels=[\"blues\", \"classical\", \"country\", \"disco\", \"hiphop\", \"jazz\", \"metal\", \"pop\", \"reggae\", \"rock\"]);\n",
    "    plt.savefig(\"conf matrix\")"
   ]
  },
  {
   "cell_type": "code",
   "execution_count": null,
   "metadata": {},
   "outputs": [],
   "source": [
    "xgbclassifier(n_estimators=1000, learning_rate=0.005)"
   ]
  },
  {
   "cell_type": "code",
   "execution_count": null,
   "metadata": {},
   "outputs": [],
   "source": [
    "xgbclassifier(n_estimators=1000, learning_rate=0.05)"
   ]
  },
  {
   "cell_type": "code",
   "execution_count": null,
   "metadata": {},
   "outputs": [],
   "source": [
    "xgbclassifier(n_estimators=100, learning_rate=0.05)"
   ]
  },
  {
   "cell_type": "code",
   "execution_count": null,
   "metadata": {},
   "outputs": [],
   "source": [
    "xgbclassifier(n_estimators=1000, learning_rate=0.01)"
   ]
  },
  {
   "cell_type": "markdown",
   "metadata": {},
   "source": [
    "Implementing Cosine Similarity"
   ]
  },
  {
   "cell_type": "code",
   "execution_count": null,
   "metadata": {},
   "outputs": [],
   "source": []
  }
 ],
 "metadata": {
  "kernelspec": {
   "display_name": "Python 3",
   "language": "python",
   "name": "python3"
  },
  "language_info": {
   "codemirror_mode": {
    "name": "ipython",
    "version": 3
   },
   "file_extension": ".py",
   "mimetype": "text/x-python",
   "name": "python",
   "nbconvert_exporter": "python",
   "pygments_lexer": "ipython3",
   "version": "3.8.5"
  }
 },
 "nbformat": 4,
 "nbformat_minor": 4
}
